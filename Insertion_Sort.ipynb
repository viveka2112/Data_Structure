{
 "cells": [
  {
   "cell_type": "code",
   "execution_count": 3,
   "metadata": {},
   "outputs": [
    {
     "name": "stdout",
     "output_type": "stream",
     "text": [
      "[1, 2, 4, 4, 5, 7, 8, 9, 11, 12, 14]\n"
     ]
    }
   ],
   "source": [
    "def insertion_sort(items):\n",
    "    for i in range(1,len(items)):\n",
    "        pos=i\n",
    "        value=items[i]\n",
    "        while(pos > 0 and value < items[pos-1]):\n",
    "            items[pos]=items[pos-1]\n",
    "            pos-=1\n",
    "            print(pos)\n",
    "            \n",
    "        items[pos]=value\n",
    "        \n",
    "    print(items)\n",
    "    \n",
    "    \n",
    "\n",
    "insertion_sort([21,99,88,12,1,2,5,4,4,88])"
   ]
  }
 ],
 "metadata": {
  "kernelspec": {
   "display_name": "Python 3",
   "language": "python",
   "name": "python3"
  },
  "language_info": {
   "codemirror_mode": {
    "name": "ipython",
    "version": 3
   },
   "file_extension": ".py",
   "mimetype": "text/x-python",
   "name": "python",
   "nbconvert_exporter": "python",
   "pygments_lexer": "ipython3",
   "version": "3.6.5"
  }
 },
 "nbformat": 4,
 "nbformat_minor": 2
}
