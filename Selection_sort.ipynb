{
 "cells": [
  {
   "cell_type": "code",
   "execution_count": 13,
   "metadata": {},
   "outputs": [
    {
     "name": "stdout",
     "output_type": "stream",
     "text": [
      "[40, 45, 67, 78, 78, 82, 87, 99, 100]\n"
     ]
    }
   ],
   "source": [
    "\"Sorting is the process of arranging or ordering a collection of items\"\n",
    "\"Python provides a sort() method for sorting a list, it cannot be used with an array or other data structures.\"\n",
    "\"Selection Sort-scan the minimum value from given items and it placed on first places next scan the minimum value from the\,
    "\"remaining item and placed on next to firstone.selection sort Reduces the number of swaps compare with bubble sort.o(n**2)\"\n",
    "\n",
    "def selection_sort(items):\n",
    "    for i in range(len(items)):\n",
    "        min_val=i\n",
    "        for j in range(i+1,len(items)):\n",
    "            if(items[min_val]>items[j]):\n",
    "                min_val=j\n",
    "        items[i],items[min_val]=items[min_val],items[i]\n",
    "    print(items)\n",
    "            \n",
    "        \n",
    "        \n",
    "    \n",
    "\n",
    "selection_sort([99,78,87,82,78,100,45,67,40])\n"
   ]
  },
  {
   "cell_type": "code",
   "execution_count": null,
   "metadata": {},
   "outputs": [],
   "source": []
  }
 ],
 "metadata": {
  "kernelspec": {
   "display_name": "Python 3",
   "language": "python",
   "name": "python3"
  },
  "language_info": {
   "codemirror_mode": {
    "name": "ipython",
    "version": 3
   },
   "file_extension": ".py",
   "mimetype": "text/x-python",
   "name": "python",
   "nbconvert_exporter": "python",
   "pygments_lexer": "ipython3",
   "version": "3.6.5"
  }
 },
 "nbformat": 4,
 "nbformat_minor": 2
}
