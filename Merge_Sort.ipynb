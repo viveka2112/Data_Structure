{
 "cells": [
  {
   "cell_type": "code",
   "execution_count": 3,
   "metadata": {},
   "outputs": [
    {
     "name": "stdout",
     "output_type": "stream",
     "text": [
      "[1, 2, 4, 4, 5, 7, 8, 9, 11, 12, 14]\n"
     ]
    }
   ],
   "source": [
    "def merge_sort(listA,listB):\n",
    "    newlist=[]\n",
    "    a=0\n",
    "    b=0\n",
    "    while(a<len(listA) and b<len(listB)):\n",
    "        if(listA[a]<listB[b]):\n",
    "            newlist.append(listA[a])\n",
    "            a+=1\n",
    "        else:\n",
    "            newlist.append(listB[b])\n",
    "            b+=1\n",
    "    while(a<len(listA)):\n",
    "        newlist.append(listA[a])\n",
    "        a+=1\n",
    "    while(b<len(listB)):\n",
    "        newlist.append(listB[b])\n",
    "        b+=1\n",
    "    print(newlist)\n",
    "    \n",
    "    \n",
    "\n",
    "merge_sort([1,4,7,9,11],[2,4,5,8,12,14])"
   ]
  }
 ],
 "metadata": {
  "kernelspec": {
   "display_name": "Python 3",
   "language": "python",
   "name": "python3"
  },
  "language_info": {
   "codemirror_mode": {
    "name": "ipython",
    "version": 3
   },
   "file_extension": ".py",
   "mimetype": "text/x-python",
   "name": "python",
   "nbconvert_exporter": "python",
   "pygments_lexer": "ipython3",
   "version": "3.6.5"
  }
 },
 "nbformat": 4,
 "nbformat_minor": 2
}
